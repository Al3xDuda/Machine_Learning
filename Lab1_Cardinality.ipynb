{
 "cells": [
  {
   "cell_type": "code",
   "execution_count": 6,
   "id": "5c2e9c1d-be3b-4e1b-a15b-09e7a5637457",
   "metadata": {},
   "outputs": [],
   "source": [
    "import pandas as pd\n",
    "import numpy as np"
   ]
  },
  {
   "cell_type": "code",
   "execution_count": 7,
   "id": "fe4edffa-ac2d-4e26-be1a-258b64a4a77a",
   "metadata": {},
   "outputs": [
    {
     "name": "stdout",
     "output_type": "stream",
     "text": [
      " pclass : False\n",
      " survived : False\n",
      " name : False\n",
      " sex : False\n",
      " age : True\n",
      " sibsp : False\n",
      " parch : False\n",
      " ticket : False\n",
      " fare : True\n",
      " cabin : True\n",
      " embarked : True\n",
      " boat : True\n",
      " body : True\n",
      " home_dest : True\n"
     ]
    }
   ],
   "source": [
    "dataset = pd.read_csv('Zbiór danych Titanic.arff',skiprows=16)\n",
    "dataset.reset_index(inplace=True)\n",
    "dataset.columns=['pclass','survived','name','sex','age','sibsp','parch','ticket','fare','cabin','embarked','boat','body','home_dest']\n",
    "\n",
    "for column in dataset.columns:\n",
    "    print(f\" {column} : {'?' in dataset[column].unique()}\")\n",
    "\n",
    "dataset=dataset.replace('?',np.NaN)"
   ]
  },
  {
   "cell_type": "code",
   "execution_count": 16,
   "id": "b39e12a5-ace3-4c37-b2c5-18668ba8b9db",
   "metadata": {},
   "outputs": [
    {
     "name": "stdout",
     "output_type": "stream",
     "text": [
      "Liczba etykiet zmiennej name: 1307\n",
      "\n",
      "Liczba etykiet zmiennej sex: 2\n",
      "\n",
      "Liczba etykiet zmiennej age: 99\n",
      "\n",
      "Liczba etykiet zmiennej ticket: 929\n",
      "\n",
      "Liczba etykiet zmiennej fare: 282\n",
      "\n",
      "Liczba etykiet zmiennej cabin: 187\n",
      "\n",
      "Liczba etykiet zmiennej embarked: 4\n",
      "\n",
      "Liczba etykiet zmiennej boat: 28\n",
      "\n",
      "Liczba etykiet zmiennej body: 122\n",
      "\n",
      "Liczba etykiet zmiennej home_dest: 370\n",
      "\n"
     ]
    }
   ],
   "source": [
    "liczebnosc_etykiet=[]\n",
    "for column in dataset.select_dtypes(include=['object']):  # Select only columns with qualitative variables\n",
    "    counts = len(dataset[column].unique())\n",
    "    liczebnosc_etykiet.append(counts)\n",
    "    # print(f\"Liczba poszczególnych etykiet dla zmiennej '{column}':\")\n",
    "    print(f'Liczba etykiet zmiennej {column}: {counts}')\n",
    "    # print(counts)\n",
    "    print() "
   ]
  },
  {
   "cell_type": "code",
   "execution_count": 22,
   "id": "c91e5c14-8ceb-4e4d-99db-b125abb8146e",
   "metadata": {},
   "outputs": [
    {
     "data": {
      "text/plain": [
       "45.75"
      ]
     },
     "execution_count": 22,
     "metadata": {},
     "output_type": "execute_result"
    }
   ],
   "source": [
    "np.quantile(liczebnosc_etykiet,0.25)"
   ]
  },
  {
   "cell_type": "code",
   "execution_count": 15,
   "id": "41c1ea90-617b-4533-9cfa-2bddefab1a42",
   "metadata": {},
   "outputs": [
    {
     "name": "stdout",
     "output_type": "stream",
     "text": [
      "Liczba pasażerów to 1309\n"
     ]
    }
   ],
   "source": [
    "print(f\"Liczba pasażerów to {len(dataset)}\" )"
   ]
  },
  {
   "cell_type": "markdown",
   "id": "dfa3e625-637b-4c2a-a2db-a2645fd5e3ba",
   "metadata": {},
   "source": [
    "Podzielmy zbiory na małą i dużą moc na podstawie pierwszego kwartyla.\n",
    "Zbiór o dużej mocy będzie miał 46 i więcej etykiet tymczasem zbiór o małej mocy będzie miał do 45 włącznie.\n",
    "\n",
    "Popatrzmy na kabiny. Zmienna cabin posiada 187 unikalnych wartości, więc posiada dużą moc."
   ]
  },
  {
   "cell_type": "code",
   "execution_count": 23,
   "id": "a1d7d13c-2cc4-489c-b15d-e6925cbccfcf",
   "metadata": {},
   "outputs": [],
   "source": [
    "dataset['CabinReduced']=dataset['cabin'].astype(str).str[0]"
   ]
  },
  {
   "cell_type": "code",
   "execution_count": 24,
   "id": "04df54e4-4f7b-4047-bc44-7191dbc2663c",
   "metadata": {},
   "outputs": [
    {
     "data": {
      "text/html": [
       "<div>\n",
       "<style scoped>\n",
       "    .dataframe tbody tr th:only-of-type {\n",
       "        vertical-align: middle;\n",
       "    }\n",
       "\n",
       "    .dataframe tbody tr th {\n",
       "        vertical-align: top;\n",
       "    }\n",
       "\n",
       "    .dataframe thead th {\n",
       "        text-align: right;\n",
       "    }\n",
       "</style>\n",
       "<table border=\"1\" class=\"dataframe\">\n",
       "  <thead>\n",
       "    <tr style=\"text-align: right;\">\n",
       "      <th></th>\n",
       "      <th>cabin</th>\n",
       "      <th>CabinReduced</th>\n",
       "    </tr>\n",
       "  </thead>\n",
       "  <tbody>\n",
       "    <tr>\n",
       "      <th>0</th>\n",
       "      <td>B5</td>\n",
       "      <td>B</td>\n",
       "    </tr>\n",
       "    <tr>\n",
       "      <th>1</th>\n",
       "      <td>C22 C26</td>\n",
       "      <td>C</td>\n",
       "    </tr>\n",
       "    <tr>\n",
       "      <th>2</th>\n",
       "      <td>C22 C26</td>\n",
       "      <td>C</td>\n",
       "    </tr>\n",
       "    <tr>\n",
       "      <th>3</th>\n",
       "      <td>C22 C26</td>\n",
       "      <td>C</td>\n",
       "    </tr>\n",
       "    <tr>\n",
       "      <th>4</th>\n",
       "      <td>C22 C26</td>\n",
       "      <td>C</td>\n",
       "    </tr>\n",
       "    <tr>\n",
       "      <th>5</th>\n",
       "      <td>E12</td>\n",
       "      <td>E</td>\n",
       "    </tr>\n",
       "    <tr>\n",
       "      <th>6</th>\n",
       "      <td>D7</td>\n",
       "      <td>D</td>\n",
       "    </tr>\n",
       "    <tr>\n",
       "      <th>7</th>\n",
       "      <td>A36</td>\n",
       "      <td>A</td>\n",
       "    </tr>\n",
       "    <tr>\n",
       "      <th>8</th>\n",
       "      <td>C101</td>\n",
       "      <td>C</td>\n",
       "    </tr>\n",
       "    <tr>\n",
       "      <th>9</th>\n",
       "      <td>NaN</td>\n",
       "      <td>n</td>\n",
       "    </tr>\n",
       "    <tr>\n",
       "      <th>10</th>\n",
       "      <td>C62 C64</td>\n",
       "      <td>C</td>\n",
       "    </tr>\n",
       "    <tr>\n",
       "      <th>11</th>\n",
       "      <td>C62 C64</td>\n",
       "      <td>C</td>\n",
       "    </tr>\n",
       "    <tr>\n",
       "      <th>12</th>\n",
       "      <td>B35</td>\n",
       "      <td>B</td>\n",
       "    </tr>\n",
       "    <tr>\n",
       "      <th>13</th>\n",
       "      <td>NaN</td>\n",
       "      <td>n</td>\n",
       "    </tr>\n",
       "    <tr>\n",
       "      <th>14</th>\n",
       "      <td>A23</td>\n",
       "      <td>A</td>\n",
       "    </tr>\n",
       "    <tr>\n",
       "      <th>15</th>\n",
       "      <td>NaN</td>\n",
       "      <td>n</td>\n",
       "    </tr>\n",
       "    <tr>\n",
       "      <th>16</th>\n",
       "      <td>B58 B60</td>\n",
       "      <td>B</td>\n",
       "    </tr>\n",
       "    <tr>\n",
       "      <th>17</th>\n",
       "      <td>B58 B60</td>\n",
       "      <td>B</td>\n",
       "    </tr>\n",
       "    <tr>\n",
       "      <th>18</th>\n",
       "      <td>D15</td>\n",
       "      <td>D</td>\n",
       "    </tr>\n",
       "    <tr>\n",
       "      <th>19</th>\n",
       "      <td>C6</td>\n",
       "      <td>C</td>\n",
       "    </tr>\n",
       "  </tbody>\n",
       "</table>\n",
       "</div>"
      ],
      "text/plain": [
       "      cabin CabinReduced\n",
       "0        B5            B\n",
       "1   C22 C26            C\n",
       "2   C22 C26            C\n",
       "3   C22 C26            C\n",
       "4   C22 C26            C\n",
       "5       E12            E\n",
       "6        D7            D\n",
       "7       A36            A\n",
       "8      C101            C\n",
       "9       NaN            n\n",
       "10  C62 C64            C\n",
       "11  C62 C64            C\n",
       "12      B35            B\n",
       "13      NaN            n\n",
       "14      A23            A\n",
       "15      NaN            n\n",
       "16  B58 B60            B\n",
       "17  B58 B60            B\n",
       "18      D15            D\n",
       "19       C6            C"
      ]
     },
     "execution_count": 24,
     "metadata": {},
     "output_type": "execute_result"
    }
   ],
   "source": [
    "dataset[['cabin','CabinReduced']].head(20)"
   ]
  },
  {
   "cell_type": "code",
   "execution_count": 25,
   "id": "73a0b275-8187-4096-8b22-5628601c8720",
   "metadata": {},
   "outputs": [
    {
     "data": {
      "text/plain": [
       "9"
      ]
     },
     "execution_count": 25,
     "metadata": {},
     "output_type": "execute_result"
    }
   ],
   "source": [
    "len(dataset['CabinReduced'].unique())"
   ]
  },
  {
   "cell_type": "markdown",
   "id": "6fafd567-f5d6-475d-9767-5df195ff20f5",
   "metadata": {},
   "source": [
    "Po zredukowaniu pozostało 9 unikalnych wartości co znaczy, że jest to teraz zbiór o małej mocy. Policzmy o ile procent dokonano redukcji."
   ]
  },
  {
   "cell_type": "code",
   "execution_count": 29,
   "id": "2702d977-c3b2-4f0f-91e9-e1616e94cabb",
   "metadata": {},
   "outputs": [
    {
     "name": "stdout",
     "output_type": "stream",
     "text": [
      "Ilość unikalnych wartości w kolumnie kabina zerdukowano o 95.19%\n"
     ]
    }
   ],
   "source": [
    "old=len(dataset['cabin'].unique())\n",
    "new=len(dataset['CabinReduced'].unique())\n",
    "\n",
    "print(f\"Ilość unikalnych wartości w kolumnie kabina zerdukowano o {np.round((old-new)/old*100,2)}%\")"
   ]
  },
  {
   "cell_type": "markdown",
   "id": "707d52e5-f4b7-46b3-82fc-86a4ec2e1032",
   "metadata": {},
   "source": [
    "Dokonujemy redukcji wartości dla kolumny kabiny, ponieważ w niektórych przypadkach zmienna kabinowa może nie być istotna dla analizy lub modelowania, a jedynie dodatkowym szczegółem bez większego wpływu na wyniki. Również gdy ta zmienna ma dużą liczbę unikalnych etykiet, może to prowadzić do nadmiernego rozdrobnienia danych. W takich przypadkach redukcja kardynalności może pomóc w uproszczeniu analizy i modelowania.\n",
    "\n",
    "Natomiast może to mieć złe skutki na przyszłą analizę.\n",
    "\n",
    "\n",
    "Może prowadzić do utraty informacji zawartej w oryginalnej zmiennej kabinowej, co może być istotne dla analizy."
   ]
  }
 ],
 "metadata": {
  "kernelspec": {
   "display_name": "Python 3 (ipykernel)",
   "language": "python",
   "name": "python3"
  },
  "language_info": {
   "codemirror_mode": {
    "name": "ipython",
    "version": 3
   },
   "file_extension": ".py",
   "mimetype": "text/x-python",
   "name": "python",
   "nbconvert_exporter": "python",
   "pygments_lexer": "ipython3",
   "version": "3.11.9"
  }
 },
 "nbformat": 4,
 "nbformat_minor": 5
}
